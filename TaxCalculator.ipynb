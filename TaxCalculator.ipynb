{
 "cells": [
  {
   "cell_type": "code",
   "execution_count": 9,
   "id": "73434f19",
   "metadata": {},
   "outputs": [
    {
     "name": "stdout",
     "output_type": "stream",
     "text": [
      "Give your CTC 700000\n",
      "Do you have Deductions = Type 'Y' or 'N'n\n",
      "21000.0\n"
     ]
    }
   ],
   "source": [
    "Input = int(input(\"Give your CTC \"))\n",
    "Input2 = input(\"Do you have Deductions = Type 'Y' or 'N'\")\n",
    "new=0\n",
    "if Input2 == \"Y\" or Input2 == \"y\":\n",
    "    Input3 = int(input(\"How you want to get deducted = \"))\n",
    "\n",
    "elif Input2 == \"n\" or Input2 ==\"N\":\n",
    "        if Input >300000:\n",
    "            if (Input - 50000) > 1500000:\n",
    "                new = 1.05*(((Input - 50000) - 1500000)*0.3)+(300000*0.2)+(300000*0.15)+(300000*0.1)+(300000*0.05)\n",
    "            elif (Input - 50000) <= 1500000 and Input > 1200000:\n",
    "                new = 1.05*(((Input - 50000) - 1200000)*0.2)+(300000*0.15)+(300000*0.1)+(300000*0.05)\n",
    "            elif (Input - 50000) <= 1200000 and Input > 900000:\n",
    "                new = 1.05*(((Input - 50000) - 900000)*0.15)+(300000*0.1)+(300000*0.05)\n",
    "            elif (Input - 50000) <= 900000 and Input > 600000:\n",
    "                new = 1.05*(((Input - 50000) - 600000)*0.1 + (300000*0.05))\n",
    "            elif (Input - 50000) <= 600000 and Input > 300000:\n",
    "                new = 1.05*(((Input - 50000) - 300000)*0.05)\n",
    "        else:\n",
    "            new = Input\n",
    "else:\n",
    "    print(\"Give Y or y\")\n",
    "    \n",
    "print(new)"
   ]
  },
  {
   "cell_type": "code",
   "execution_count": null,
   "id": "047e3d68",
   "metadata": {},
   "outputs": [],
   "source": []
  },
  {
   "cell_type": "code",
   "execution_count": null,
   "id": "51912983",
   "metadata": {},
   "outputs": [],
   "source": []
  }
 ],
 "metadata": {
  "kernelspec": {
   "display_name": "Python 3 (ipykernel)",
   "language": "python",
   "name": "python3"
  },
  "language_info": {
   "codemirror_mode": {
    "name": "ipython",
    "version": 3
   },
   "file_extension": ".py",
   "mimetype": "text/x-python",
   "name": "python",
   "nbconvert_exporter": "python",
   "pygments_lexer": "ipython3",
   "version": "3.9.13"
  }
 },
 "nbformat": 4,
 "nbformat_minor": 5
}
